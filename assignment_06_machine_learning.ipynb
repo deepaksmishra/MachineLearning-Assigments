{
  "nbformat": 4,
  "nbformat_minor": 0,
  "metadata": {
    "colab": {
      "name": "assignment_06_machine_learning.ipynb",
      "provenance": [],
      "collapsed_sections": []
    },
    "kernelspec": {
      "name": "python3",
      "display_name": "Python 3"
    },
    "language_info": {
      "name": "python"
    }
  },
  "cells": [
    {
      "cell_type": "code",
      "metadata": {
        "id": "J7P1RGe8qqhy"
      },
      "source": [
        "1. In the sense of machine learning, what is a model? What is the best way to train a model?\n",
        "ans:A training model is a dataset that is used to train an ML algorithm. It consists of the sample output data and the corresponding sets of input data that have an influence on the output. \n",
        "The training model is used to run the input data through the algorithm to correlate the processed output against the sample output.\n",
        "\n",
        "\n",
        "\n",
        "2. In the sense of machine learning, explain the \"No Free Lunch\" theorem.\n",
        "Ans: The “no free lunch” (NFL) theorem for supervised machine learning is a \n",
        "theorem that essentially implies that no single machine learning algorithm is universally the best-performing algorithm for all problems.\n",
        "\n",
        "\n",
        "3. Describe the K-fold cross-validation mechanism in detail.\n",
        "Ans: In k-fold cross-validation, the original sample is randomly partitioned into k equal sized subsamples. Of the k subsamples, a single subsample is retained as \n",
        "the validation data for testing the model, and the remaining k − 1 subsamples are used as training data.\n",
        "\n",
        "\n",
        "4. Describe the bootstrap sampling method. What is the aim of it?\n",
        "Ans:Bootstrapping assigns measures of accuracy (bias, variance,\n",
        " confidence intervals, prediction error, etc.) to sample estimates. This technique allows estimation of the sampling distribution of almost any statistic using random sampling methods.\n",
        "\n",
        "\n",
        "\n",
        "\n",
        "5. What is the significance of calculating the Kappa value for a classification model? Demonstrate how to measure the Kappa value of a classification model using a sample collection of results.\n",
        "Ans: \n",
        "\n",
        "\n",
        "\n",
        "6. Describe the model ensemble method. In machine learning, what part does it play?\n",
        "Ans: Ensemble methods is a machine learning technique that combines several base models in order to produce one optimal predictive model .\n",
        "\n",
        "\n",
        "7. What is a descriptive model's main purpose? Give examples of real-world problems that descriptive models were used to solve.\n",
        "Ans: In unsupervised learning, the data mining algorithms describe some intrinsic property or structure of data and hence are sometimes called descriptive models.\n",
        "\n",
        "\n",
        "\n",
        "8. Describe how to evaluate a linear regression model.\n",
        "Ans: Evaluating a Linear Regression Model. Confidence in model, hypothesis testing, p-values, feature selection, train/test split \n",
        "\n",
        "9. Distinguish :\n",
        "\n",
        "1. Descriptive vs. predictive models\n",
        "A descriptive model will exploit the past data that are stored in databases and provide you with the accurate report. \n",
        "In a Predictive model, it identifies patterns found in past and transactional data to find risks and future outcomes.\n",
        "\n",
        "2. Underfitting vs. overfitting the model\n",
        "A model that is underfit will have high training and high testing error while an overfit model will have extremely low training error but a high testing error. \n",
        " The exact metrics depend on the testing set, but on average, the best model from cross-validation will outperform all other models.\n",
        "\n",
        "\n",
        "3. Bootstrapping vs. cross-validation\n",
        "\n",
        "10. Make quick notes on:\n",
        "\n",
        "            1. LOOCV.\n",
        "            LOOCV(Leave One Out Cross-Validation) is a type of cross-validation approach in which each observation is considered as the validation set and the rest (N-1) \n",
        "            observations are considered as the training set. In LOOCV, fitting of the model is done and predicting using one observation validation set.\n",
        "\n",
        "            2. F-measurement\n",
        "In statistical analysis of binary classification, the F-score or F-measure is a measure of a test's accuracy. It is calculated from the precision\n",
        "\n",
        "            3. The width of the silhouette\n",
        "\n",
        "             4. Receiver operating characteristic curve\n",
        "             A receiver operating characteristic curve, or ROC curve, is a graphical plot that illustrates the diagnostic ability of a binary classifier system as its discrimination threshold is varied.\n",
        "              The method was originally developed for operators of military radar receivers starting in 1941, which led to its name\n",
        "\n"
      ],
      "execution_count": null,
      "outputs": []
    }
  ]
}