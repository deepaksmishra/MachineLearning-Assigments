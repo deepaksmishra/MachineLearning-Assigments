{
  "nbformat": 4,
  "nbformat_minor": 0,
  "metadata": {
    "colab": {
      "name": "machine_learning_13.ipynb",
      "provenance": [],
      "collapsed_sections": []
    },
    "kernelspec": {
      "name": "python3",
      "display_name": "Python 3"
    },
    "language_info": {
      "name": "python"
    }
  },
  "cells": [
    {
      "cell_type": "code",
      "metadata": {
        "id": "Zi5E48V2Gx7-"
      },
      "source": [
        "1. Provide an example of the concepts of Prior, Posterior, and Likelihood.\n",
        "Ans: \n",
        "The prior is a probability distribution that represents your uncertainty over  θ before you have sampled any data and attempted to estimate it - usually denoted  π(θ) .\n",
        "The posterior is a probability distribution representing your uncertainty over  θ after you have sampled data - denoted  π(θ|X) . It is a conditional distribution because it conditions on the observed data.\n",
        "\n",
        "From Bayes' theorem we relate the two:\n",
        "\n",
        "π(θ|X)=f(X|θ)π(θ)∑θif(X|θi)π(θi) \n",
        "\n",
        "Taking a step back, we widely accept that the process of having beliefs about the world, interacting with it, and then updating these beliefs is a fundamental component of learning.\n",
        "\n",
        "Well, computing the posterior from the prior with Bayes' theorem is simply a mathematical formulation of updating your beliefs. In fact, these ideas are at the core of Bayesian statistics, so it's well worth your time becoming familiar with the mechanics of working with them.\n",
        "\n",
        "\n",
        "2. What role does Bayes' theorem play in the concept learning principle?\n",
        "Ans: \n",
        "Bayes Theorem provides a principled way for calculating a conditional probability. It is a deceptively simple calculation, \n",
        "although it can be used to easily calculate the conditional probability of events where intuition often fails\n",
        "\n",
        "\n",
        "3. Offer an example of how the Nave Bayes classifier is used in real life.\n",
        "Ans: \n",
        "As this algorithm is fast and efficient, you can use it to make real-time predictions. This algorithm is popular for multi-class predictions. \n",
        "Email services (like Gmail) use this algorithm to figure out whether an email is a spam or not.\n",
        "\n",
        "4. Can the Nave Bayes classifier be used on continuous numeric data? If so, how can you go about doing it?\n",
        "Ans: \n",
        " how do we perform classification using Naive Bayes when the data we have is continuous in nature. If an instance in test data set has a category that was not present during training then it will assign it “Zero” probability and won't be able to make prediction. \n",
        "It skews the whole performance of the classification.\n",
        "\n",
        "5. What are Bayesian Belief Networks, and how do they work? What are their applications? Are they capable of resolving a wide range of issues?\n",
        "Ans: \n",
        "Bayesian networks are a probabilistic graphical model that explicitly capture the known conditional dependence with directed edges in a graph\n",
        "\n",
        "6. Passengers are checked in an airport screening system to see if there is an intruder. Let I be the random variable that indicates whether someone is an intruder I = 1) or not I = 0), and A be the variable that indicates alarm I = 0). If an intruder is detected with probability P(A = 1|I = 1) = 0.98 and a non-intruder is detected with probability P(A = 1|I = 0) = 0.001, an alarm will be triggered, implying the error factor. The likelihood of an intruder in the passenger population is P(I = 1) = 0.00001. What are the chances that an alarm would be triggered when an individual is actually an intruder?\n",
        "Ans: \n",
        "Bayesian belief network is key computer technology for dealing with probabilistic events and to solve a problem which has uncertainty. We can define a Bayesian network as:\n",
        "\n",
        "\"A Bayesian network is a probabilistic graphical model which represents a set of variables and their conditional dependencies using a directed acyclic graph.\"\n",
        "\n",
        "It is also called a Bayes network, belief network, decision network, or Bayesian model.\n",
        "\n",
        "Bayesian networks are probabilistic, because these networks are built from a probability distribution, and also use probability theory for prediction and anomaly detection.\n",
        "\n",
        "Real world applications are probabilistic in nature, and to represent the relationship between multiple events, we need a Bayesian network. It can also be used in various tasks including prediction, anomaly detection, diagnostics, automated insight, reasoning, time series prediction, and decision making under uncertainty.\n",
        "\n",
        "\n",
        "7. An antibiotic resistance test (random variable T) has 1% false positives (i.e., 1% of those who are not immune to an antibiotic display a positive result in the test) and 5% false negatives (i.e., 1% of those who are not resistant to an antibiotic show a positive result in the test) (i.e. 5 percent of those actually resistant to an antibiotic test negative). Assume that 2% of those who were screened were antibiotic-resistant. Calculate the likelihood that a person who tests positive is actually immune (random variable D).\n",
        "Ans: \n",
        "Antibiotic medications are used to kill bacteria, which can cause illness and disease. They have made a major contribution to human health. Many diseases that once killed people can now be treated effectively with antibiotics. However, some bacteria have become resistant to commonly used antibiotics.\n",
        "\n",
        "Antibiotic resistant bacteria are bacteria that are not controlled or killed by antibiotics. They are able to survive and even multiply in the presence of an antibiotic. Most infection-causing bacteria can become resistant to at least some antibiotics. Bacteria that are resistant to many antibiotics are known as multi-resistant organisms (MRO).\n",
        "\n",
        "8. In order to prepare for the test, a student knows that there will be one question in the exam that is either form A, B, or C. The chances of getting an A, B, or C on the exam are 30 percent, 20%, and 50 percent, respectively. During the planning, the student solved 9 of 10 type A problems, 2 of 10 type B problems, and 6 of 10 type C problems.\n",
        "\n",
        "         1. What is the likelihood that the student can solve the exam problem?\n",
        "\n",
        "         2. Given the student's solution, what is the likelihood that the problem was of form A?\n",
        "\n",
        "9. A bank installs a CCTV system to track and photograph incoming customers. Despite the constant influx of customers, we divide the timeline into 5 minute bins. There may be a customer coming into the bank with a 5% chance in each 5-minute time period, or there may be no customer (again, for simplicity, we assume that either there is 1 customer or none, not the case of multiple customers). If there is a client, the CCTV will detect them with a 99 percent probability. If there is no customer, the camera can take a false photograph with a 10% chance of detecting movement from other objects.\n",
        "\n",
        "                1. How many customers come into the bank on a daily basis (10 hours)?\n",
        "\n",
        "                2. On a daily basis, how many fake photographs (photographs taken when there is no customer) and how many missed photographs (photographs taken when there is a customer) are there?\n",
        "\n",
        "                3. Explain likelihood that there is a customer if there is a photograph?\n",
        "\n",
        "10. Create the conditional probability table associated with the node Won Toss in the Bayesian Belief network to represent the conditional independence assumptions of the Nave Bayes classifier for the match winning prediction problem in Section 6.4.4.\n"
      ],
      "execution_count": null,
      "outputs": []
    }
  ]
}